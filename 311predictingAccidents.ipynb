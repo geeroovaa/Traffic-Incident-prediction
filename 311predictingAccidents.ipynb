{
 "cells": [
  {
   "cell_type": "code",
   "execution_count": 1,
   "metadata": {},
   "outputs": [
    {
     "name": "stdout",
     "output_type": "stream",
     "text": [
      "Populating the interactive namespace from numpy and matplotlib\n"
     ]
    },
    {
     "name": "stderr",
     "output_type": "stream",
     "text": [
      "/opt/rh/anaconda/root/envs/PUI2016_Python2/lib/python2.7/site-packages/IPython/core/magics/pylab.py:161: UserWarning: pylab import has clobbered these variables: ['log']\n",
      "`%matplotlib` prevents importing * from pylab and numpy\n",
      "  \"\\n`%matplotlib` prevents importing * from pylab and numpy\"\n"
     ]
    }
   ],
   "source": [
    "import pandas as pd\n",
    "import numpy as np\n",
    "import os\n",
    "import pylab as pl\n",
    "import statsmodels.formula.api as smf\n",
    "from math import log\n",
    "%pylab inline"
   ]
  },
  {
   "cell_type": "code",
   "execution_count": 2,
   "metadata": {},
   "outputs": [
    {
     "name": "stderr",
     "output_type": "stream",
     "text": [
      "/opt/rh/anaconda/root/envs/PUI2016_Python2/lib/python2.7/site-packages/IPython/core/interactiveshell.py:2717: DtypeWarning: Columns (3) have mixed types. Specify dtype option on import or set low_memory=False.\n",
      "  interactivity=interactivity, compiler=compiler, result=result)\n"
     ]
    }
   ],
   "source": [
    "dfaccidents=pd.read_csv('https://data.cityofnewyork.us/api/views/h9gi-nx95/rows.csv')"
   ]
  },
  {
   "cell_type": "code",
   "execution_count": 3,
   "metadata": {},
   "outputs": [],
   "source": [
    "df311street=pd.read_csv('311street.csv')\n",
    "df311traffic=pd.read_csv('311traffic.csv')"
   ]
  },
  {
   "cell_type": "code",
   "execution_count": 4,
   "metadata": {},
   "outputs": [],
   "source": [
    "dfaccidents.columns\n",
    "dfacc=dfaccidents.drop(['BOROUGH','ZIP CODE','ON STREET NAME', 'CROSS STREET NAME',\n",
    "       'OFF STREET NAME','LOCATION','NUMBER OF PEDESTRIANS INJURED',\n",
    "       'NUMBER OF PEDESTRIANS KILLED', 'NUMBER OF CYCLIST INJURED',\n",
    "       'NUMBER OF CYCLIST KILLED', 'NUMBER OF MOTORIST INJURED',\n",
    "       'NUMBER OF MOTORIST KILLED', 'CONTRIBUTING FACTOR VEHICLE 1',\n",
    "       'CONTRIBUTING FACTOR VEHICLE 2', 'CONTRIBUTING FACTOR VEHICLE 3',\n",
    "       'CONTRIBUTING FACTOR VEHICLE 4', 'CONTRIBUTING FACTOR VEHICLE 5',\n",
    "       'UNIQUE KEY', u'VEHICLE TYPE CODE 1', 'VEHICLE TYPE CODE 2',\n",
    "       'VEHICLE TYPE CODE 3', 'VEHICLE TYPE CODE 4', 'VEHICLE TYPE CODE 5'],axis=1)"
   ]
  },
  {
   "cell_type": "code",
   "execution_count": 5,
   "metadata": {},
   "outputs": [],
   "source": [
    "dfacc=dfacc[dfacc.DATE.str.contains(\"2016\") == True]"
   ]
  },
  {
   "cell_type": "code",
   "execution_count": 6,
   "metadata": {},
   "outputs": [],
   "source": [
    "dfacc=dfacc.dropna(axis=0, how='any')"
   ]
  },
  {
   "cell_type": "code",
   "execution_count": 7,
   "metadata": {},
   "outputs": [],
   "source": [
    "dfacc=dfacc.reset_index()\n",
    "dfacc=dfacc.drop(['index'],axis=1)"
   ]
  },
  {
   "cell_type": "code",
   "execution_count": 8,
   "metadata": {},
   "outputs": [],
   "source": [
    "dfacc['Location']=dfacc['LATITUDE'].astype(str)+','+dfacc['LONGITUDE'].astype(str)"
   ]
  },
  {
   "cell_type": "code",
   "execution_count": 9,
   "metadata": {},
   "outputs": [],
   "source": [
    "location=[]\n",
    "for i in range(0,len(dfacc)):\n",
    "    location.append(dfacc['LATITUDE'][i].astype(str)[:7]+','+dfacc['LONGITUDE'][i].astype(str)[:8])"
   ]
  },
  {
   "cell_type": "code",
   "execution_count": 10,
   "metadata": {
    "collapsed": true
   },
   "outputs": [],
   "source": [
    "dflocacc=pd.DataFrame(location,columns=['Location'])"
   ]
  },
  {
   "cell_type": "code",
   "execution_count": 11,
   "metadata": {},
   "outputs": [],
   "source": [
    "dfacc['Location']=dflocacc"
   ]
  },
  {
   "cell_type": "code",
   "execution_count": 12,
   "metadata": {},
   "outputs": [
    {
     "data": {
      "text/html": [
       "<div>\n",
       "<table border=\"1\" class=\"dataframe\">\n",
       "  <thead>\n",
       "    <tr style=\"text-align: right;\">\n",
       "      <th></th>\n",
       "      <th>DATE</th>\n",
       "      <th>TIME</th>\n",
       "      <th>LATITUDE</th>\n",
       "      <th>LONGITUDE</th>\n",
       "      <th>NUMBER OF PERSONS INJURED</th>\n",
       "      <th>NUMBER OF PERSONS KILLED</th>\n",
       "      <th>Location</th>\n",
       "    </tr>\n",
       "  </thead>\n",
       "  <tbody>\n",
       "    <tr>\n",
       "      <th>0</th>\n",
       "      <td>12/29/2016</td>\n",
       "      <td>0:00</td>\n",
       "      <td>40.844107</td>\n",
       "      <td>-73.897997</td>\n",
       "      <td>0</td>\n",
       "      <td>0</td>\n",
       "      <td>40.8441,-73.8979</td>\n",
       "    </tr>\n",
       "    <tr>\n",
       "      <th>1</th>\n",
       "      <td>12/23/2016</td>\n",
       "      <td>0:30</td>\n",
       "      <td>40.835091</td>\n",
       "      <td>-73.825371</td>\n",
       "      <td>1</td>\n",
       "      <td>0</td>\n",
       "      <td>40.8350,-73.8253</td>\n",
       "    </tr>\n",
       "    <tr>\n",
       "      <th>2</th>\n",
       "      <td>12/10/2016</td>\n",
       "      <td>3:38</td>\n",
       "      <td>40.851690</td>\n",
       "      <td>-73.952371</td>\n",
       "      <td>0</td>\n",
       "      <td>0</td>\n",
       "      <td>40.8516,-73.9523</td>\n",
       "    </tr>\n",
       "    <tr>\n",
       "      <th>3</th>\n",
       "      <td>11/30/2016</td>\n",
       "      <td>22:50</td>\n",
       "      <td>40.755480</td>\n",
       "      <td>-73.741730</td>\n",
       "      <td>1</td>\n",
       "      <td>0</td>\n",
       "      <td>40.7554,-73.7417</td>\n",
       "    </tr>\n",
       "    <tr>\n",
       "      <th>4</th>\n",
       "      <td>11/23/2016</td>\n",
       "      <td>20:11</td>\n",
       "      <td>40.771122</td>\n",
       "      <td>-73.869635</td>\n",
       "      <td>0</td>\n",
       "      <td>0</td>\n",
       "      <td>40.7711,-73.8696</td>\n",
       "    </tr>\n",
       "  </tbody>\n",
       "</table>\n",
       "</div>"
      ],
      "text/plain": [
       "         DATE   TIME   LATITUDE  LONGITUDE  NUMBER OF PERSONS INJURED  \\\n",
       "0  12/29/2016   0:00  40.844107 -73.897997                          0   \n",
       "1  12/23/2016   0:30  40.835091 -73.825371                          1   \n",
       "2  12/10/2016   3:38  40.851690 -73.952371                          0   \n",
       "3  11/30/2016  22:50  40.755480 -73.741730                          1   \n",
       "4  11/23/2016  20:11  40.771122 -73.869635                          0   \n",
       "\n",
       "   NUMBER OF PERSONS KILLED          Location  \n",
       "0                         0  40.8441,-73.8979  \n",
       "1                         0  40.8350,-73.8253  \n",
       "2                         0  40.8516,-73.9523  \n",
       "3                         0  40.7554,-73.7417  \n",
       "4                         0  40.7711,-73.8696  "
      ]
     },
     "execution_count": 12,
     "metadata": {},
     "output_type": "execute_result"
    }
   ],
   "source": [
    "dfacc.head()"
   ]
  },
  {
   "cell_type": "code",
   "execution_count": 13,
   "metadata": {},
   "outputs": [],
   "source": [
    "location=[]\n",
    "for i in range(0,len(df311street)):\n",
    "    location.append(df311street['Latitude'][i].astype(str)[:7]+','+df311street['Longitude'][i].astype(str)[:8])"
   ]
  },
  {
   "cell_type": "code",
   "execution_count": 14,
   "metadata": {},
   "outputs": [],
   "source": [
    "dfloc=pd.DataFrame(location,columns=['Location'])"
   ]
  },
  {
   "cell_type": "code",
   "execution_count": 15,
   "metadata": {},
   "outputs": [],
   "source": [
    "df311street['Location']=dfloc"
   ]
  },
  {
   "cell_type": "code",
   "execution_count": 16,
   "metadata": {},
   "outputs": [],
   "source": [
    "df311street=df311street.rename(index=str, columns={\"Complaint Type\": \"Complaint\"})"
   ]
  },
  {
   "cell_type": "code",
   "execution_count": 17,
   "metadata": {},
   "outputs": [],
   "source": [
    "df311stcond=df311street[df311street.Complaint=='Street Condition']"
   ]
  },
  {
   "cell_type": "code",
   "execution_count": 18,
   "metadata": {},
   "outputs": [],
   "source": [
    "df311stcond=df311stcond.reset_index()\n",
    "df311stcond=df311stcond.drop(['index'],axis=1)"
   ]
  },
  {
   "cell_type": "code",
   "execution_count": 19,
   "metadata": {},
   "outputs": [
    {
     "data": {
      "text/html": [
       "<div>\n",
       "<table border=\"1\" class=\"dataframe\">\n",
       "  <thead>\n",
       "    <tr style=\"text-align: right;\">\n",
       "      <th></th>\n",
       "      <th>Unique Key</th>\n",
       "      <th>Created Date</th>\n",
       "      <th>Agency</th>\n",
       "      <th>Complaint</th>\n",
       "      <th>Incident Zip</th>\n",
       "      <th>Latitude</th>\n",
       "      <th>Longitude</th>\n",
       "      <th>Location</th>\n",
       "    </tr>\n",
       "  </thead>\n",
       "  <tbody>\n",
       "    <tr>\n",
       "      <th>0</th>\n",
       "      <td>32305924</td>\n",
       "      <td>1/1/16 0:24</td>\n",
       "      <td>DOT</td>\n",
       "      <td>Street Condition</td>\n",
       "      <td>10029.0</td>\n",
       "      <td>40.792335</td>\n",
       "      <td>-73.944102</td>\n",
       "      <td>40.7923,-73.9441</td>\n",
       "    </tr>\n",
       "    <tr>\n",
       "      <th>1</th>\n",
       "      <td>32308333</td>\n",
       "      <td>1/1/16 0:31</td>\n",
       "      <td>DOT</td>\n",
       "      <td>Street Condition</td>\n",
       "      <td>11219.0</td>\n",
       "      <td>40.632134</td>\n",
       "      <td>-73.995122</td>\n",
       "      <td>40.6321,-73.9951</td>\n",
       "    </tr>\n",
       "    <tr>\n",
       "      <th>2</th>\n",
       "      <td>32308181</td>\n",
       "      <td>1/1/16 3:02</td>\n",
       "      <td>DOT</td>\n",
       "      <td>Street Condition</td>\n",
       "      <td>11378.0</td>\n",
       "      <td>40.720578</td>\n",
       "      <td>-73.922232</td>\n",
       "      <td>40.7205,-73.9222</td>\n",
       "    </tr>\n",
       "    <tr>\n",
       "      <th>3</th>\n",
       "      <td>32313466</td>\n",
       "      <td>1/1/16 3:37</td>\n",
       "      <td>DOT</td>\n",
       "      <td>Street Condition</td>\n",
       "      <td>11354.0</td>\n",
       "      <td>40.762954</td>\n",
       "      <td>-73.831957</td>\n",
       "      <td>40.7629,-73.8319</td>\n",
       "    </tr>\n",
       "    <tr>\n",
       "      <th>4</th>\n",
       "      <td>32311437</td>\n",
       "      <td>1/1/16 7:58</td>\n",
       "      <td>DOT</td>\n",
       "      <td>Street Condition</td>\n",
       "      <td>11201.0</td>\n",
       "      <td>40.688223</td>\n",
       "      <td>-73.988137</td>\n",
       "      <td>40.6882,-73.9881</td>\n",
       "    </tr>\n",
       "  </tbody>\n",
       "</table>\n",
       "</div>"
      ],
      "text/plain": [
       "   Unique Key Created Date Agency         Complaint  Incident Zip   Latitude  \\\n",
       "0    32305924  1/1/16 0:24    DOT  Street Condition       10029.0  40.792335   \n",
       "1    32308333  1/1/16 0:31    DOT  Street Condition       11219.0  40.632134   \n",
       "2    32308181  1/1/16 3:02    DOT  Street Condition       11378.0  40.720578   \n",
       "3    32313466  1/1/16 3:37    DOT  Street Condition       11354.0  40.762954   \n",
       "4    32311437  1/1/16 7:58    DOT  Street Condition       11201.0  40.688223   \n",
       "\n",
       "   Longitude          Location  \n",
       "0 -73.944102  40.7923,-73.9441  \n",
       "1 -73.995122  40.6321,-73.9951  \n",
       "2 -73.922232  40.7205,-73.9222  \n",
       "3 -73.831957  40.7629,-73.8319  \n",
       "4 -73.988137  40.6882,-73.9881  "
      ]
     },
     "execution_count": 19,
     "metadata": {},
     "output_type": "execute_result"
    }
   ],
   "source": [
    "df311stcond.head()"
   ]
  },
  {
   "cell_type": "code",
   "execution_count": 20,
   "metadata": {},
   "outputs": [],
   "source": [
    "freqst=pd.DataFrame(df311street.groupby(['Location']).size())"
   ]
  },
  {
   "cell_type": "code",
   "execution_count": 21,
   "metadata": {},
   "outputs": [],
   "source": [
    "freqst=freqst.reset_index()"
   ]
  },
  {
   "cell_type": "code",
   "execution_count": 22,
   "metadata": {},
   "outputs": [],
   "source": [
    "freqst=freqst.rename(index=str, columns={0: \"Frequency_st_con\"})"
   ]
  },
  {
   "cell_type": "code",
   "execution_count": 23,
   "metadata": {
    "collapsed": true
   },
   "outputs": [],
   "source": [
    "freqacc=pd.DataFrame(dfacc.groupby(['Location']).size())"
   ]
  },
  {
   "cell_type": "code",
   "execution_count": 24,
   "metadata": {},
   "outputs": [],
   "source": [
    "freqacc=freqacc.reset_index()"
   ]
  },
  {
   "cell_type": "code",
   "execution_count": 25,
   "metadata": {
    "collapsed": true
   },
   "outputs": [],
   "source": [
    "freqacc=freqacc.rename(index=str, columns={0: \"FrequencyAcc\"})"
   ]
  },
  {
   "cell_type": "code",
   "execution_count": 26,
   "metadata": {},
   "outputs": [],
   "source": [
    "freqacc=freqacc[1:]"
   ]
  },
  {
   "cell_type": "code",
   "execution_count": 27,
   "metadata": {},
   "outputs": [],
   "source": [
    "dfmerge= pd.merge(freqacc, freqst, on='Location', how='inner')"
   ]
  },
  {
   "cell_type": "code",
   "execution_count": 28,
   "metadata": {},
   "outputs": [
    {
     "data": {
      "text/html": [
       "<div>\n",
       "<table border=\"1\" class=\"dataframe\">\n",
       "  <thead>\n",
       "    <tr style=\"text-align: right;\">\n",
       "      <th></th>\n",
       "      <th>Location</th>\n",
       "      <th>FrequencyAcc</th>\n",
       "      <th>Frequency_st_con</th>\n",
       "    </tr>\n",
       "  </thead>\n",
       "  <tbody>\n",
       "    <tr>\n",
       "      <th>0</th>\n",
       "      <td>40.5000,-74.2390</td>\n",
       "      <td>1</td>\n",
       "      <td>3</td>\n",
       "    </tr>\n",
       "    <tr>\n",
       "      <th>1</th>\n",
       "      <td>40.5007,-74.2488</td>\n",
       "      <td>1</td>\n",
       "      <td>1</td>\n",
       "    </tr>\n",
       "    <tr>\n",
       "      <th>2</th>\n",
       "      <td>40.5023,-74.2407</td>\n",
       "      <td>1</td>\n",
       "      <td>1</td>\n",
       "    </tr>\n",
       "    <tr>\n",
       "      <th>3</th>\n",
       "      <td>40.5031,-74.2400</td>\n",
       "      <td>1</td>\n",
       "      <td>1</td>\n",
       "    </tr>\n",
       "    <tr>\n",
       "      <th>4</th>\n",
       "      <td>40.5041,-74.2452</td>\n",
       "      <td>1</td>\n",
       "      <td>2</td>\n",
       "    </tr>\n",
       "  </tbody>\n",
       "</table>\n",
       "</div>"
      ],
      "text/plain": [
       "           Location  FrequencyAcc  Frequency_st_con\n",
       "0  40.5000,-74.2390             1                 3\n",
       "1  40.5007,-74.2488             1                 1\n",
       "2  40.5023,-74.2407             1                 1\n",
       "3  40.5031,-74.2400             1                 1\n",
       "4  40.5041,-74.2452             1                 2"
      ]
     },
     "execution_count": 28,
     "metadata": {},
     "output_type": "execute_result"
    }
   ],
   "source": [
    "dfmerge.head()"
   ]
  },
  {
   "cell_type": "code",
   "execution_count": 29,
   "metadata": {},
   "outputs": [],
   "source": [
    "dfmerge['Abs']=dfmerge['FrequencyAcc']+dfmerge['Frequency_st_con']"
   ]
  },
  {
   "cell_type": "code",
   "execution_count": 30,
   "metadata": {},
   "outputs": [
    {
     "name": "stderr",
     "output_type": "stream",
     "text": [
      "/opt/rh/anaconda/root/envs/PUI2016_Python2/lib/python2.7/site-packages/ipykernel/__main__.py:1: FutureWarning: sort(columns=....) is deprecated, use sort_values(by=.....)\n",
      "  if __name__ == '__main__':\n"
     ]
    }
   ],
   "source": [
    "dfpareto=dfmerge.sort(['Abs'],ascending=False)"
   ]
  },
  {
   "cell_type": "code",
   "execution_count": 31,
   "metadata": {
    "collapsed": true
   },
   "outputs": [],
   "source": [
    "dfpareto['AbsFreq']=(dfpareto['Abs']/dfpareto['Abs'].sum())*100"
   ]
  },
  {
   "cell_type": "code",
   "execution_count": 32,
   "metadata": {},
   "outputs": [],
   "source": [
    "dfpareto=dfpareto.reset_index()\n",
    "dfpareto=dfpareto.drop(['index'],axis=1)"
   ]
  },
  {
   "cell_type": "code",
   "execution_count": 33,
   "metadata": {},
   "outputs": [
    {
     "data": {
      "text/html": [
       "<div>\n",
       "<table border=\"1\" class=\"dataframe\">\n",
       "  <thead>\n",
       "    <tr style=\"text-align: right;\">\n",
       "      <th></th>\n",
       "      <th>Location</th>\n",
       "      <th>FrequencyAcc</th>\n",
       "      <th>Frequency_st_con</th>\n",
       "      <th>Abs</th>\n",
       "      <th>AbsFreq</th>\n",
       "    </tr>\n",
       "  </thead>\n",
       "  <tbody>\n",
       "    <tr>\n",
       "      <th>0</th>\n",
       "      <td>40.6960,-73.9845</td>\n",
       "      <td>114</td>\n",
       "      <td>18</td>\n",
       "      <td>132</td>\n",
       "      <td>0.086160</td>\n",
       "    </tr>\n",
       "    <tr>\n",
       "      <th>1</th>\n",
       "      <td>40.8201,-73.8906</td>\n",
       "      <td>105</td>\n",
       "      <td>20</td>\n",
       "      <td>125</td>\n",
       "      <td>0.081591</td>\n",
       "    </tr>\n",
       "    <tr>\n",
       "      <th>2</th>\n",
       "      <td>40.7606,-73.9643</td>\n",
       "      <td>88</td>\n",
       "      <td>10</td>\n",
       "      <td>98</td>\n",
       "      <td>0.063967</td>\n",
       "    </tr>\n",
       "    <tr>\n",
       "      <th>3</th>\n",
       "      <td>40.7334,-73.8703</td>\n",
       "      <td>75</td>\n",
       "      <td>18</td>\n",
       "      <td>93</td>\n",
       "      <td>0.060704</td>\n",
       "    </tr>\n",
       "    <tr>\n",
       "      <th>4</th>\n",
       "      <td>40.6585,-73.8906</td>\n",
       "      <td>65</td>\n",
       "      <td>28</td>\n",
       "      <td>93</td>\n",
       "      <td>0.060704</td>\n",
       "    </tr>\n",
       "  </tbody>\n",
       "</table>\n",
       "</div>"
      ],
      "text/plain": [
       "           Location  FrequencyAcc  Frequency_st_con  Abs   AbsFreq\n",
       "0  40.6960,-73.9845           114                18  132  0.086160\n",
       "1  40.8201,-73.8906           105                20  125  0.081591\n",
       "2  40.7606,-73.9643            88                10   98  0.063967\n",
       "3  40.7334,-73.8703            75                18   93  0.060704\n",
       "4  40.6585,-73.8906            65                28   93  0.060704"
      ]
     },
     "execution_count": 33,
     "metadata": {},
     "output_type": "execute_result"
    }
   ],
   "source": [
    "dfpareto.head()"
   ]
  },
  {
   "cell_type": "code",
   "execution_count": 34,
   "metadata": {
    "collapsed": true
   },
   "outputs": [],
   "source": [
    "relfreq=[]"
   ]
  },
  {
   "cell_type": "code",
   "execution_count": 35,
   "metadata": {
    "collapsed": true
   },
   "outputs": [],
   "source": [
    "relfreq.append(dfpareto['AbsFreq'][0])"
   ]
  },
  {
   "cell_type": "code",
   "execution_count": 36,
   "metadata": {},
   "outputs": [],
   "source": [
    "count=dfpareto['AbsFreq'][0]\n",
    "for i in range(1,len(dfpareto)):\n",
    "    count+=dfpareto['AbsFreq'][i]\n",
    "    relfreq.append(count)"
   ]
  },
  {
   "cell_type": "code",
   "execution_count": 37,
   "metadata": {},
   "outputs": [],
   "source": [
    "relfreq=pd.DataFrame(relfreq,columns=['RelFreq'])"
   ]
  },
  {
   "cell_type": "code",
   "execution_count": 38,
   "metadata": {},
   "outputs": [],
   "source": [
    "dfpareto['RelFreq']=relfreq"
   ]
  },
  {
   "cell_type": "code",
   "execution_count": 39,
   "metadata": {},
   "outputs": [],
   "source": [
    "df80=dfpareto[dfpareto.RelFreq<80]"
   ]
  },
  {
   "cell_type": "code",
   "execution_count": 40,
   "metadata": {},
   "outputs": [
    {
     "data": {
      "text/html": [
       "<div>\n",
       "<table border=\"1\" class=\"dataframe\">\n",
       "  <thead>\n",
       "    <tr style=\"text-align: right;\">\n",
       "      <th></th>\n",
       "      <th>Location</th>\n",
       "      <th>FrequencyAcc</th>\n",
       "      <th>Frequency_st_con</th>\n",
       "      <th>Abs</th>\n",
       "      <th>AbsFreq</th>\n",
       "      <th>RelFreq</th>\n",
       "    </tr>\n",
       "  </thead>\n",
       "  <tbody>\n",
       "    <tr>\n",
       "      <th>0</th>\n",
       "      <td>40.6960,-73.9845</td>\n",
       "      <td>114</td>\n",
       "      <td>18</td>\n",
       "      <td>132</td>\n",
       "      <td>0.086160</td>\n",
       "      <td>0.086160</td>\n",
       "    </tr>\n",
       "    <tr>\n",
       "      <th>1</th>\n",
       "      <td>40.8201,-73.8906</td>\n",
       "      <td>105</td>\n",
       "      <td>20</td>\n",
       "      <td>125</td>\n",
       "      <td>0.081591</td>\n",
       "      <td>0.167751</td>\n",
       "    </tr>\n",
       "    <tr>\n",
       "      <th>2</th>\n",
       "      <td>40.7606,-73.9643</td>\n",
       "      <td>88</td>\n",
       "      <td>10</td>\n",
       "      <td>98</td>\n",
       "      <td>0.063967</td>\n",
       "      <td>0.231719</td>\n",
       "    </tr>\n",
       "    <tr>\n",
       "      <th>3</th>\n",
       "      <td>40.7334,-73.8703</td>\n",
       "      <td>75</td>\n",
       "      <td>18</td>\n",
       "      <td>93</td>\n",
       "      <td>0.060704</td>\n",
       "      <td>0.292422</td>\n",
       "    </tr>\n",
       "    <tr>\n",
       "      <th>4</th>\n",
       "      <td>40.6585,-73.8906</td>\n",
       "      <td>65</td>\n",
       "      <td>28</td>\n",
       "      <td>93</td>\n",
       "      <td>0.060704</td>\n",
       "      <td>0.353126</td>\n",
       "    </tr>\n",
       "  </tbody>\n",
       "</table>\n",
       "</div>"
      ],
      "text/plain": [
       "           Location  FrequencyAcc  Frequency_st_con  Abs   AbsFreq   RelFreq\n",
       "0  40.6960,-73.9845           114                18  132  0.086160  0.086160\n",
       "1  40.8201,-73.8906           105                20  125  0.081591  0.167751\n",
       "2  40.7606,-73.9643            88                10   98  0.063967  0.231719\n",
       "3  40.7334,-73.8703            75                18   93  0.060704  0.292422\n",
       "4  40.6585,-73.8906            65                28   93  0.060704  0.353126"
      ]
     },
     "execution_count": 40,
     "metadata": {},
     "output_type": "execute_result"
    }
   ],
   "source": [
    "df80.head()"
   ]
  },
  {
   "cell_type": "code",
   "execution_count": 41,
   "metadata": {},
   "outputs": [
    {
     "data": {
      "text/plain": [
       "<matplotlib.text.Text at 0x7fe2c6cabd90>"
      ]
     },
     "execution_count": 41,
     "metadata": {},
     "output_type": "execute_result"
    },
    {
     "data": {
      "image/png": "[encoded data removed]",
      "text/plain": [
       "<matplotlib.figure.Figure at 0x7fe2c9c71490>"
      ]
     },
     "metadata": {},
     "output_type": "display_data"
    }
   ],
   "source": [
    "pl.figure(figsize=(10, 10))\n",
    "pl.plot(df80['Frequency_st_con'],df80['FrequencyAcc'],'o')\n",
    "pl.ylabel('Accident Count', fontsize = 18)\n",
    "pl.xlabel('Street Condition Complaint Count', fontsize = 18)"
   ]
  },
  {
   "cell_type": "code",
   "execution_count": 42,
   "metadata": {},
   "outputs": [],
   "source": [
    "log_FreqAcc=[]\n",
    "log_Freq_st_con=[]\n",
    "for i in range(0,len(dfpareto)):\n",
    "    log_FreqAcc.append(log(dfpareto['FrequencyAcc'][i]))\n",
    "    log_Freq_st_con.append(log(dfpareto['Frequency_st_con'][i]))"
   ]
  },
  {
   "cell_type": "code",
   "execution_count": 43,
   "metadata": {
    "collapsed": true
   },
   "outputs": [],
   "source": [
    "x=log_FreqAcc\n",
    "y=log_Freq_st_con\n",
    "dflog=pd.DataFrame({'FrequencyAcc':x,'Frequency_st_con': y},columns = ['FrequencyAcc','Frequency_st_con'])"
   ]
  },
  {
   "cell_type": "code",
   "execution_count": 44,
   "metadata": {},
   "outputs": [
    {
     "data": {
      "text/html": [
       "<div>\n",
       "<table border=\"1\" class=\"dataframe\">\n",
       "  <thead>\n",
       "    <tr style=\"text-align: right;\">\n",
       "      <th></th>\n",
       "      <th>FrequencyAcc</th>\n",
       "      <th>Frequency_st_con</th>\n",
       "    </tr>\n",
       "  </thead>\n",
       "  <tbody>\n",
       "    <tr>\n",
       "      <th>0</th>\n",
       "      <td>4.736198</td>\n",
       "      <td>2.890372</td>\n",
       "    </tr>\n",
       "    <tr>\n",
       "      <th>1</th>\n",
       "      <td>4.653960</td>\n",
       "      <td>2.995732</td>\n",
       "    </tr>\n",
       "    <tr>\n",
       "      <th>2</th>\n",
       "      <td>4.477337</td>\n",
       "      <td>2.302585</td>\n",
       "    </tr>\n",
       "    <tr>\n",
       "      <th>3</th>\n",
       "      <td>4.317488</td>\n",
       "      <td>2.890372</td>\n",
       "    </tr>\n",
       "    <tr>\n",
       "      <th>4</th>\n",
       "      <td>4.174387</td>\n",
       "      <td>3.332205</td>\n",
       "    </tr>\n",
       "  </tbody>\n",
       "</table>\n",
       "</div>"
      ],
      "text/plain": [
       "   FrequencyAcc  Frequency_st_con\n",
       "0      4.736198          2.890372\n",
       "1      4.653960          2.995732\n",
       "2      4.477337          2.302585\n",
       "3      4.317488          2.890372\n",
       "4      4.174387          3.332205"
      ]
     },
     "execution_count": 44,
     "metadata": {},
     "output_type": "execute_result"
    }
   ],
   "source": [
    "dflog.head()"
   ]
  },
  {
   "cell_type": "code",
   "execution_count": 45,
   "metadata": {},
   "outputs": [
    {
     "data": {
      "text/html": [
       "<table class=\"simpletable\">\n",
       "<caption>OLS Regression Results</caption>\n",
       "<tr>\n",
       "  <th>Dep. Variable:</th>      <td>FrequencyAcc</td>   <th>  R-squared:         </th> <td>   0.450</td> \n",
       "</tr>\n",
       "<tr>\n",
       "  <th>Model:</th>                   <td>OLS</td>       <th>  Adj. R-squared:    </th> <td>   0.450</td> \n",
       "</tr>\n",
       "<tr>\n",
       "  <th>Method:</th>             <td>Least Squares</td>  <th>  F-statistic:       </th> <td>1.784e+04</td>\n",
       "</tr>\n",
       "<tr>\n",
       "  <th>Date:</th>             <td>Tue, 10 Oct 2017</td> <th>  Prob (F-statistic):</th>  <td>  0.00</td>  \n",
       "</tr>\n",
       "<tr>\n",
       "  <th>Time:</th>                 <td>01:04:27</td>     <th>  Log-Likelihood:    </th> <td> -29268.</td> \n",
       "</tr>\n",
       "<tr>\n",
       "  <th>No. Observations:</th>      <td> 21820</td>      <th>  AIC:               </th> <td>5.854e+04</td>\n",
       "</tr>\n",
       "<tr>\n",
       "  <th>Df Residuals:</th>          <td> 21819</td>      <th>  BIC:               </th> <td>5.855e+04</td>\n",
       "</tr>\n",
       "<tr>\n",
       "  <th>Df Model:</th>              <td>     1</td>      <th>                     </th>     <td> </td>    \n",
       "</tr>\n",
       "<tr>\n",
       "  <th>Covariance Type:</th>      <td>nonrobust</td>    <th>                     </th>     <td> </td>    \n",
       "</tr>\n",
       "</table>\n",
       "<table class=\"simpletable\">\n",
       "<tr>\n",
       "          <td></td>            <th>coef</th>     <th>std err</th>      <th>t</th>      <th>P>|t|</th> <th>[95.0% Conf. Int.]</th> \n",
       "</tr>\n",
       "<tr>\n",
       "  <th>Frequency_st_con</th> <td>    0.7447</td> <td>    0.006</td> <td>  133.563</td> <td> 0.000</td> <td>    0.734     0.756</td>\n",
       "</tr>\n",
       "</table>\n",
       "<table class=\"simpletable\">\n",
       "<tr>\n",
       "  <th>Omnibus:</th>       <td>552.279</td> <th>  Durbin-Watson:     </th> <td>   1.535</td> \n",
       "</tr>\n",
       "<tr>\n",
       "  <th>Prob(Omnibus):</th> <td> 0.000</td>  <th>  Jarque-Bera (JB):  </th> <td> 594.412</td> \n",
       "</tr>\n",
       "<tr>\n",
       "  <th>Skew:</th>          <td> 0.400</td>  <th>  Prob(JB):          </th> <td>8.41e-130</td>\n",
       "</tr>\n",
       "<tr>\n",
       "  <th>Kurtosis:</th>      <td> 3.118</td>  <th>  Cond. No.          </th> <td>    1.00</td> \n",
       "</tr>\n",
       "</table>"
      ],
      "text/plain": [
       "<class 'statsmodels.iolib.summary.Summary'>\n",
       "\"\"\"\n",
       "                            OLS Regression Results                            \n",
       "==============================================================================\n",
       "Dep. Variable:           FrequencyAcc   R-squared:                       0.450\n",
       "Model:                            OLS   Adj. R-squared:                  0.450\n",
       "Method:                 Least Squares   F-statistic:                 1.784e+04\n",
       "Date:                Tue, 10 Oct 2017   Prob (F-statistic):               0.00\n",
       "Time:                        01:04:27   Log-Likelihood:                -29268.\n",
       "No. Observations:               21820   AIC:                         5.854e+04\n",
       "Df Residuals:                   21819   BIC:                         5.855e+04\n",
       "Df Model:                           1                                         \n",
       "Covariance Type:            nonrobust                                         \n",
       "====================================================================================\n",
       "                       coef    std err          t      P>|t|      [95.0% Conf. Int.]\n",
       "------------------------------------------------------------------------------------\n",
       "Frequency_st_con     0.7447      0.006    133.563      0.000         0.734     0.756\n",
       "==============================================================================\n",
       "Omnibus:                      552.279   Durbin-Watson:                   1.535\n",
       "Prob(Omnibus):                  0.000   Jarque-Bera (JB):              594.412\n",
       "Skew:                           0.400   Prob(JB):                    8.41e-130\n",
       "Kurtosis:                       3.118   Cond. No.                         1.00\n",
       "==============================================================================\n",
       "\n",
       "Warnings:\n",
       "[1] Standard Errors assume that the covariance matrix of the errors is correctly specified.\n",
       "\"\"\""
      ]
     },
     "execution_count": 45,
     "metadata": {},
     "output_type": "execute_result"
    }
   ],
   "source": [
    "ols3=smf.ols('FrequencyAcc ~  Frequency_st_con-1',dflog).fit()\n",
    "ols3.summary()"
   ]
  },
  {
   "cell_type": "code",
   "execution_count": 46,
   "metadata": {},
   "outputs": [
    {
     "data": {
      "image/png": "[encoded data removed]",
      "text/plain": [
       "<matplotlib.figure.Figure at 0x7fe2c291b7d0>"
      ]
     },
     "metadata": {},
     "output_type": "display_data"
    }
   ],
   "source": [
    "pl.figure(figsize=(10, 10))\n",
    "pl.plot(dflog['Frequency_st_con'],dflog['FrequencyAcc'],'o')\n",
    "pl.plot(log_Freq_st_con, ols3.predict(), '-r')\n",
    "pl.ylabel('Log of Accident Count', fontsize = 14)\n",
    "pl.xlabel('Log of Street Condition Complaint Count', fontsize = 14)\n",
    "pl.title('OLS Regression for 311 Complaints vs Accidents',fontsize = 14)\n",
    "savefig('ols.png')"
   ]
  },
  {
   "cell_type": "code",
   "execution_count": 47,
   "metadata": {},
   "outputs": [
    {
     "data": {
      "image/png": "[encoded data removed]",
      "text/plain": [
       "<matplotlib.figure.Figure at 0x7fe2c2948a90>"
      ]
     },
     "metadata": {},
     "output_type": "display_data"
    }
   ],
   "source": [
    "pl.figure(figsize=(10, 10))\n",
    "pl.hist(dfpareto['FrequencyAcc'])\n",
    "pl.hist(dfpareto['Frequency_st_con'])\n",
    "pl.xlabel('Value Counts for the Same Location', fontsize = 18)\n",
    "pl.ylabel('N', fontsize = 18)\n",
    "pl.suptitle('Accidents and Street Conditions Complaint Histogram for 2016', fontsize = 18)\n",
    "pl.legend(['Accidents','Street Condition Complaints'])\n",
    "savefig('hist.png')"
   ]
  },
  {
   "cell_type": "code",
   "execution_count": 48,
   "metadata": {},
   "outputs": [
    {
     "name": "stdout",
     "output_type": "stream",
     "text": [
      "(3.8739688359303392, 3.1472502291475712)\n"
     ]
    }
   ],
   "source": [
    "print(dfpareto['FrequencyAcc'].mean(),dfpareto['Frequency_st_con'].mean())"
   ]
  },
  {
   "cell_type": "code",
   "execution_count": 49,
   "metadata": {},
   "outputs": [
    {
     "name": "stdout",
     "output_type": "stream",
     "text": [
      "(2.0, 2.0)\n"
     ]
    }
   ],
   "source": [
    "print(dfpareto['FrequencyAcc'].median(),dfpareto['Frequency_st_con'].median())"
   ]
  },
  {
   "cell_type": "code",
   "execution_count": 50,
   "metadata": {},
   "outputs": [
    {
     "name": "stdout",
     "output_type": "stream",
     "text": [
      "(5.428340837524976, 3.1623347966889317)\n"
     ]
    }
   ],
   "source": [
    "print(np.std(dfpareto['FrequencyAcc']),np.std(dfpareto['Frequency_st_con']))"
   ]
  },
  {
   "cell_type": "code",
   "execution_count": 51,
   "metadata": {},
   "outputs": [],
   "source": [
    "dfpareto.to_csv('VisionZero.csv')"
   ]
  }
 ],
 "metadata": {
  "kernelspec": {
   "display_name": "Python 3",
   "language": "python",
   "name": "python3"
  },
  "language_info": {
   "codemirror_mode": {
    "name": "ipython",
    "version": 3
   },
   "file_extension": ".py",
   "mimetype": "text/x-python",
   "name": "python",
   "nbconvert_exporter": "python",
   "pygments_lexer": "ipython3",
   "version": "3.6.5"
  }
 },
 "nbformat": 4,
 "nbformat_minor": 1
}
